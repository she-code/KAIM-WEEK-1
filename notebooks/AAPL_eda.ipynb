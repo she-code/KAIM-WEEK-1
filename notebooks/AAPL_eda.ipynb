{
 "cells": [
  {
   "cell_type": "code",
   "execution_count": 1,
   "id": "ae977d49",
   "metadata": {},
   "outputs": [
    {
     "name": "stdout",
     "output_type": "stream",
     "text": [
      "Data loaded successfully from ../data/AAPL_historical_data.csv\n"
     ]
    }
   ],
   "source": [
    "\n",
    "import pandas as pd\n",
    "import numpy as np\n",
    "import matplotlib.pyplot as plt\n",
    "import seaborn as sns\n",
    "import sys\n",
    "sys.path.append('../src') \n",
    "\n",
    "from utils.data_loader import load_data\n",
    "\n",
    "# Load data\n",
    "df = load_data('../data/AAPL_historical_data.csv')\n"
   ]
  },
  {
   "cell_type": "code",
   "execution_count": 2,
   "id": "43712f7b",
   "metadata": {},
   "outputs": [
    {
     "name": "stdout",
     "output_type": "stream",
     "text": [
      "<class 'pandas.core.frame.DataFrame'>\n",
      "RangeIndex: 10998 entries, 0 to 10997\n",
      "Data columns (total 9 columns):\n",
      " #   Column        Non-Null Count  Dtype  \n",
      "---  ------        --------------  -----  \n",
      " 0   Date          10998 non-null  object \n",
      " 1   Open          10998 non-null  float64\n",
      " 2   High          10998 non-null  float64\n",
      " 3   Low           10998 non-null  float64\n",
      " 4   Close         10998 non-null  float64\n",
      " 5   Adj Close     10998 non-null  float64\n",
      " 6   Volume        10998 non-null  int64  \n",
      " 7   Dividends     10998 non-null  float64\n",
      " 8   Stock Splits  10998 non-null  float64\n",
      "dtypes: float64(7), int64(1), object(1)\n",
      "memory usage: 773.4+ KB\n"
     ]
    }
   ],
   "source": [
    "df.info()"
   ]
  },
  {
   "cell_type": "markdown",
   "id": "e5ee6311",
   "metadata": {},
   "source": [
    "1. Summary Statistics & Missing-Value Report"
   ]
  },
  {
   "cell_type": "code",
   "execution_count": 3,
   "id": "ba4d2254",
   "metadata": {},
   "outputs": [
    {
     "name": "stdout",
     "output_type": "stream",
     "text": [
      "              Date          Open          High           Low         Close  \\\n",
      "count        10998  10998.000000  10998.000000  10998.000000  10998.000000   \n",
      "unique       10998           NaN           NaN           NaN           NaN   \n",
      "top     2024-07-30           NaN           NaN           NaN           NaN   \n",
      "freq             1           NaN           NaN           NaN           NaN   \n",
      "mean           NaN     22.299160     22.539055     22.068367     22.312754   \n",
      "std            NaN     46.003685     46.496031     45.540929     46.037660   \n",
      "min            NaN      0.049665      0.049665      0.049107      0.049107   \n",
      "25%            NaN      0.299107      0.303710      0.290179      0.298549   \n",
      "50%            NaN      0.531250      0.537946      0.522321      0.531250   \n",
      "75%            NaN     20.204196     20.389554     19.998036     20.196160   \n",
      "max            NaN    236.479996    237.229996    233.089996    234.820007   \n",
      "\n",
      "           Adj Close        Volume     Dividends  Stock Splits  \n",
      "count   10998.000000  1.099800e+04  10998.000000  10998.000000  \n",
      "unique           NaN           NaN           NaN           NaN  \n",
      "top              NaN           NaN           NaN           NaN  \n",
      "freq             NaN           NaN           NaN           NaN  \n",
      "mean       21.494496  3.180806e+08      0.000752      0.001546  \n",
      "std        45.561916  3.354523e+08      0.011753      0.083663  \n",
      "min         0.037857  0.000000e+00      0.000000      0.000000  \n",
      "25%         0.241840  1.132545e+08      0.000000      0.000000  \n",
      "50%         0.432079  2.057412e+08      0.000000      0.000000  \n",
      "75%        17.253029  3.985275e+08      0.000000      0.000000  \n",
      "max       234.548523  7.421641e+09      0.250000      7.000000  \n"
     ]
    }
   ],
   "source": [
    "print(df.describe(include='all'))"
   ]
  },
  {
   "cell_type": "code",
   "execution_count": 4,
   "id": "1bb6c700",
   "metadata": {},
   "outputs": [
    {
     "data": {
      "application/vnd.microsoft.datawrangler.viewer.v0+json": {
       "columns": [
        {
         "name": "index",
         "rawType": "object",
         "type": "string"
        },
        {
         "name": "Open",
         "rawType": "float64",
         "type": "float"
        },
        {
         "name": "High",
         "rawType": "float64",
         "type": "float"
        },
        {
         "name": "Low",
         "rawType": "float64",
         "type": "float"
        },
        {
         "name": "Close",
         "rawType": "float64",
         "type": "float"
        },
        {
         "name": "Adj Close",
         "rawType": "float64",
         "type": "float"
        },
        {
         "name": "Volume",
         "rawType": "float64",
         "type": "float"
        },
        {
         "name": "Dividends",
         "rawType": "float64",
         "type": "float"
        },
        {
         "name": "Stock Splits",
         "rawType": "float64",
         "type": "float"
        }
       ],
       "ref": "3ec29dd6-02c2-44c3-975e-683826d00695",
       "rows": [
        [
         "count",
         "10998.0",
         "10998.0",
         "10998.0",
         "10998.0",
         "10998.0",
         "10998.0",
         "10998.0",
         "10998.0"
        ],
        [
         "mean",
         "22.299160011953404",
         "22.539055202034024",
         "22.068367156640623",
         "22.312754411817718",
         "21.494496251632746",
         "318080644.3717039",
         "0.0007522789598108748",
         "0.0015457355882887798"
        ],
        [
         "std",
         "46.003684660364485",
         "46.49603055785277",
         "45.54092858157874",
         "46.037660077626796",
         "45.561916327418324",
         "335452346.64265436",
         "0.011753077452344725",
         "0.08366313462891031"
        ],
        [
         "min",
         "0.0496650002896785",
         "0.0496650002896785",
         "0.0491070002317428",
         "0.0491070002317428",
         "0.037856500595808",
         "0.0",
         "0.0",
         "0.0"
        ],
        [
         "25%",
         "0.2991069853305816",
         "0.3037104904651642",
         "0.2901790142059326",
         "0.2985489964485168",
         "0.2418398670852184",
         "113254500.0",
         "0.0",
         "0.0"
        ],
        [
         "50%",
         "0.53125",
         "0.5379459857940674",
         "0.5223209857940674",
         "0.53125",
         "0.4320786893367767",
         "205741200.0",
         "0.0",
         "0.0"
        ],
        [
         "75%",
         "20.204195976257324",
         "20.389554023742676",
         "19.99803638458252",
         "20.196160316467285",
         "17.253028869628906",
         "398527500.0",
         "0.0",
         "0.0"
        ],
        [
         "max",
         "236.47999572753903",
         "237.22999572753903",
         "233.08999633789065",
         "234.82000732421875",
         "234.54852294921875",
         "7421640800.0",
         "0.25",
         "7.0"
        ]
       ],
       "shape": {
        "columns": 8,
        "rows": 8
       }
      },
      "text/html": [
       "<div>\n",
       "<style scoped>\n",
       "    .dataframe tbody tr th:only-of-type {\n",
       "        vertical-align: middle;\n",
       "    }\n",
       "\n",
       "    .dataframe tbody tr th {\n",
       "        vertical-align: top;\n",
       "    }\n",
       "\n",
       "    .dataframe thead th {\n",
       "        text-align: right;\n",
       "    }\n",
       "</style>\n",
       "<table border=\"1\" class=\"dataframe\">\n",
       "  <thead>\n",
       "    <tr style=\"text-align: right;\">\n",
       "      <th></th>\n",
       "      <th>Open</th>\n",
       "      <th>High</th>\n",
       "      <th>Low</th>\n",
       "      <th>Close</th>\n",
       "      <th>Adj Close</th>\n",
       "      <th>Volume</th>\n",
       "      <th>Dividends</th>\n",
       "      <th>Stock Splits</th>\n",
       "    </tr>\n",
       "  </thead>\n",
       "  <tbody>\n",
       "    <tr>\n",
       "      <th>count</th>\n",
       "      <td>10998.000000</td>\n",
       "      <td>10998.000000</td>\n",
       "      <td>10998.000000</td>\n",
       "      <td>10998.000000</td>\n",
       "      <td>10998.000000</td>\n",
       "      <td>1.099800e+04</td>\n",
       "      <td>10998.000000</td>\n",
       "      <td>10998.000000</td>\n",
       "    </tr>\n",
       "    <tr>\n",
       "      <th>mean</th>\n",
       "      <td>22.299160</td>\n",
       "      <td>22.539055</td>\n",
       "      <td>22.068367</td>\n",
       "      <td>22.312754</td>\n",
       "      <td>21.494496</td>\n",
       "      <td>3.180806e+08</td>\n",
       "      <td>0.000752</td>\n",
       "      <td>0.001546</td>\n",
       "    </tr>\n",
       "    <tr>\n",
       "      <th>std</th>\n",
       "      <td>46.003685</td>\n",
       "      <td>46.496031</td>\n",
       "      <td>45.540929</td>\n",
       "      <td>46.037660</td>\n",
       "      <td>45.561916</td>\n",
       "      <td>3.354523e+08</td>\n",
       "      <td>0.011753</td>\n",
       "      <td>0.083663</td>\n",
       "    </tr>\n",
       "    <tr>\n",
       "      <th>min</th>\n",
       "      <td>0.049665</td>\n",
       "      <td>0.049665</td>\n",
       "      <td>0.049107</td>\n",
       "      <td>0.049107</td>\n",
       "      <td>0.037857</td>\n",
       "      <td>0.000000e+00</td>\n",
       "      <td>0.000000</td>\n",
       "      <td>0.000000</td>\n",
       "    </tr>\n",
       "    <tr>\n",
       "      <th>25%</th>\n",
       "      <td>0.299107</td>\n",
       "      <td>0.303710</td>\n",
       "      <td>0.290179</td>\n",
       "      <td>0.298549</td>\n",
       "      <td>0.241840</td>\n",
       "      <td>1.132545e+08</td>\n",
       "      <td>0.000000</td>\n",
       "      <td>0.000000</td>\n",
       "    </tr>\n",
       "    <tr>\n",
       "      <th>50%</th>\n",
       "      <td>0.531250</td>\n",
       "      <td>0.537946</td>\n",
       "      <td>0.522321</td>\n",
       "      <td>0.531250</td>\n",
       "      <td>0.432079</td>\n",
       "      <td>2.057412e+08</td>\n",
       "      <td>0.000000</td>\n",
       "      <td>0.000000</td>\n",
       "    </tr>\n",
       "    <tr>\n",
       "      <th>75%</th>\n",
       "      <td>20.204196</td>\n",
       "      <td>20.389554</td>\n",
       "      <td>19.998036</td>\n",
       "      <td>20.196160</td>\n",
       "      <td>17.253029</td>\n",
       "      <td>3.985275e+08</td>\n",
       "      <td>0.000000</td>\n",
       "      <td>0.000000</td>\n",
       "    </tr>\n",
       "    <tr>\n",
       "      <th>max</th>\n",
       "      <td>236.479996</td>\n",
       "      <td>237.229996</td>\n",
       "      <td>233.089996</td>\n",
       "      <td>234.820007</td>\n",
       "      <td>234.548523</td>\n",
       "      <td>7.421641e+09</td>\n",
       "      <td>0.250000</td>\n",
       "      <td>7.000000</td>\n",
       "    </tr>\n",
       "  </tbody>\n",
       "</table>\n",
       "</div>"
      ],
      "text/plain": [
       "               Open          High           Low         Close     Adj Close  \\\n",
       "count  10998.000000  10998.000000  10998.000000  10998.000000  10998.000000   \n",
       "mean      22.299160     22.539055     22.068367     22.312754     21.494496   \n",
       "std       46.003685     46.496031     45.540929     46.037660     45.561916   \n",
       "min        0.049665      0.049665      0.049107      0.049107      0.037857   \n",
       "25%        0.299107      0.303710      0.290179      0.298549      0.241840   \n",
       "50%        0.531250      0.537946      0.522321      0.531250      0.432079   \n",
       "75%       20.204196     20.389554     19.998036     20.196160     17.253029   \n",
       "max      236.479996    237.229996    233.089996    234.820007    234.548523   \n",
       "\n",
       "             Volume     Dividends  Stock Splits  \n",
       "count  1.099800e+04  10998.000000  10998.000000  \n",
       "mean   3.180806e+08      0.000752      0.001546  \n",
       "std    3.354523e+08      0.011753      0.083663  \n",
       "min    0.000000e+00      0.000000      0.000000  \n",
       "25%    1.132545e+08      0.000000      0.000000  \n",
       "50%    2.057412e+08      0.000000      0.000000  \n",
       "75%    3.985275e+08      0.000000      0.000000  \n",
       "max    7.421641e+09      0.250000      7.000000  "
      ]
     },
     "execution_count": 4,
     "metadata": {},
     "output_type": "execute_result"
    }
   ],
   "source": [
    "number_stats = df.describe(include=[np.number]) \n",
    "number_stats"
   ]
  },
  {
   "cell_type": "code",
   "execution_count": 5,
   "id": "2a33188c",
   "metadata": {},
   "outputs": [
    {
     "data": {
      "application/vnd.microsoft.datawrangler.viewer.v0+json": {
       "columns": [
        {
         "name": "index",
         "rawType": "object",
         "type": "string"
        },
        {
         "name": "0",
         "rawType": "int64",
         "type": "integer"
        }
       ],
       "ref": "b0dc05b6-c0f6-45e8-a82a-e439530ede02",
       "rows": [
        [
         "Date",
         "0"
        ],
        [
         "Open",
         "0"
        ],
        [
         "High",
         "0"
        ],
        [
         "Low",
         "0"
        ],
        [
         "Close",
         "0"
        ],
        [
         "Adj Close",
         "0"
        ],
        [
         "Volume",
         "0"
        ],
        [
         "Dividends",
         "0"
        ],
        [
         "Stock Splits",
         "0"
        ]
       ],
       "shape": {
        "columns": 1,
        "rows": 9
       }
      },
      "text/plain": [
       "Date            0\n",
       "Open            0\n",
       "High            0\n",
       "Low             0\n",
       "Close           0\n",
       "Adj Close       0\n",
       "Volume          0\n",
       "Dividends       0\n",
       "Stock Splits    0\n",
       "dtype: int64"
      ]
     },
     "execution_count": 5,
     "metadata": {},
     "output_type": "execute_result"
    }
   ],
   "source": [
    "df.isna().sum()"
   ]
  },
  {
   "cell_type": "markdown",
   "id": "89f644c6",
   "metadata": {},
   "source": [
    "2. Convert date to datetime"
   ]
  },
  {
   "cell_type": "code",
   "execution_count": 6,
   "id": "c7ee51fd",
   "metadata": {},
   "outputs": [
    {
     "name": "stdout",
     "output_type": "stream",
     "text": [
      "Date             object\n",
      "Open            float64\n",
      "High            float64\n",
      "Low             float64\n",
      "Close           float64\n",
      "Adj Close       float64\n",
      "Volume            int64\n",
      "Dividends       float64\n",
      "Stock Splits    float64\n",
      "dtype: object\n"
     ]
    }
   ],
   "source": [
    "print(df.dtypes)"
   ]
  },
  {
   "cell_type": "code",
   "execution_count": 11,
   "id": "2f3aa632",
   "metadata": {},
   "outputs": [
    {
     "data": {
      "application/vnd.microsoft.datawrangler.viewer.v0+json": {
       "columns": [
        {
         "name": "index",
         "rawType": "int64",
         "type": "integer"
        },
        {
         "name": "Date",
         "rawType": "datetime64[ns, UTC]",
         "type": "unknown"
        }
       ],
       "ref": "a59e287d-7711-4e43-974f-0b4d43128db0",
       "rows": [
        [
         "0",
         "1980-12-12 00:00:00+00:00"
        ],
        [
         "1",
         "1980-12-15 00:00:00+00:00"
        ],
        [
         "2",
         "1980-12-16 00:00:00+00:00"
        ],
        [
         "3",
         "1980-12-17 00:00:00+00:00"
        ],
        [
         "4",
         "1980-12-18 00:00:00+00:00"
        ],
        [
         "5",
         "1980-12-19 00:00:00+00:00"
        ],
        [
         "6",
         "1980-12-22 00:00:00+00:00"
        ],
        [
         "7",
         "1980-12-23 00:00:00+00:00"
        ],
        [
         "8",
         "1980-12-24 00:00:00+00:00"
        ],
        [
         "9",
         "1980-12-26 00:00:00+00:00"
        ],
        [
         "10",
         "1980-12-29 00:00:00+00:00"
        ],
        [
         "11",
         "1980-12-30 00:00:00+00:00"
        ],
        [
         "12",
         "1980-12-31 00:00:00+00:00"
        ],
        [
         "13",
         "1981-01-02 00:00:00+00:00"
        ],
        [
         "14",
         "1981-01-05 00:00:00+00:00"
        ],
        [
         "15",
         "1981-01-06 00:00:00+00:00"
        ],
        [
         "16",
         "1981-01-07 00:00:00+00:00"
        ],
        [
         "17",
         "1981-01-08 00:00:00+00:00"
        ],
        [
         "18",
         "1981-01-09 00:00:00+00:00"
        ],
        [
         "19",
         "1981-01-12 00:00:00+00:00"
        ],
        [
         "20",
         "1981-01-13 00:00:00+00:00"
        ],
        [
         "21",
         "1981-01-14 00:00:00+00:00"
        ],
        [
         "22",
         "1981-01-15 00:00:00+00:00"
        ],
        [
         "23",
         "1981-01-16 00:00:00+00:00"
        ],
        [
         "24",
         "1981-01-19 00:00:00+00:00"
        ],
        [
         "25",
         "1981-01-20 00:00:00+00:00"
        ],
        [
         "26",
         "1981-01-21 00:00:00+00:00"
        ],
        [
         "27",
         "1981-01-22 00:00:00+00:00"
        ],
        [
         "28",
         "1981-01-23 00:00:00+00:00"
        ],
        [
         "29",
         "1981-01-26 00:00:00+00:00"
        ],
        [
         "30",
         "1981-01-27 00:00:00+00:00"
        ],
        [
         "31",
         "1981-01-28 00:00:00+00:00"
        ],
        [
         "32",
         "1981-01-29 00:00:00+00:00"
        ],
        [
         "33",
         "1981-01-30 00:00:00+00:00"
        ],
        [
         "34",
         "1981-02-02 00:00:00+00:00"
        ],
        [
         "35",
         "1981-02-03 00:00:00+00:00"
        ],
        [
         "36",
         "1981-02-04 00:00:00+00:00"
        ],
        [
         "37",
         "1981-02-05 00:00:00+00:00"
        ],
        [
         "38",
         "1981-02-06 00:00:00+00:00"
        ],
        [
         "39",
         "1981-02-09 00:00:00+00:00"
        ],
        [
         "40",
         "1981-02-10 00:00:00+00:00"
        ],
        [
         "41",
         "1981-02-11 00:00:00+00:00"
        ],
        [
         "42",
         "1981-02-12 00:00:00+00:00"
        ],
        [
         "43",
         "1981-02-13 00:00:00+00:00"
        ],
        [
         "44",
         "1981-02-17 00:00:00+00:00"
        ],
        [
         "45",
         "1981-02-18 00:00:00+00:00"
        ],
        [
         "46",
         "1981-02-19 00:00:00+00:00"
        ],
        [
         "47",
         "1981-02-20 00:00:00+00:00"
        ],
        [
         "48",
         "1981-02-23 00:00:00+00:00"
        ],
        [
         "49",
         "1981-02-24 00:00:00+00:00"
        ]
       ],
       "shape": {
        "columns": 1,
        "rows": 10998
       }
      },
      "text/plain": [
       "0       1980-12-12 00:00:00+00:00\n",
       "1       1980-12-15 00:00:00+00:00\n",
       "2       1980-12-16 00:00:00+00:00\n",
       "3       1980-12-17 00:00:00+00:00\n",
       "4       1980-12-18 00:00:00+00:00\n",
       "                   ...           \n",
       "10993   2024-07-24 00:00:00+00:00\n",
       "10994   2024-07-25 00:00:00+00:00\n",
       "10995   2024-07-26 00:00:00+00:00\n",
       "10996   2024-07-29 00:00:00+00:00\n",
       "10997   2024-07-30 00:00:00+00:00\n",
       "Name: Date, Length: 10998, dtype: datetime64[ns, UTC]"
      ]
     },
     "execution_count": 11,
     "metadata": {},
     "output_type": "execute_result"
    }
   ],
   "source": [
    "df['Date'] = pd.to_datetime(df['Date'], format='mixed', utc=True)\n",
    "df['Date']"
   ]
  },
  {
   "cell_type": "code",
   "execution_count": 7,
   "id": "be05232c",
   "metadata": {},
   "outputs": [
    {
     "name": "stdout",
     "output_type": "stream",
     "text": [
      "Stock split on max price date: 0.0\n"
     ]
    }
   ],
   "source": [
    "# For prices, we typically want to keep genuine market movements\n",
    "# But we can verify if extreme prices coincide with splits:\n",
    "\n",
    "# Check if max price coincides with stock splits\n",
    "max_price_date = df[df['Close'] == df['Close'].max()].index[0]\n",
    "split_on_max = df.loc[max_price_date, 'Stock Splits']\n",
    "print(f\"Stock split on max price date: {split_on_max}\")"
   ]
  },
  {
   "cell_type": "code",
   "execution_count": 8,
   "id": "9811a714",
   "metadata": {},
   "outputs": [
    {
     "data": {
      "image/png": "[encoded data removed]",
      "text/plain": [
       "<Figure size 1200x600 with 2 Axes>"
      ]
     },
     "metadata": {},
     "output_type": "display_data"
    },
    {
     "data": {
      "image/png": "[encoded data removed]",
      "text/plain": [
       "<Figure size 1200x400 with 1 Axes>"
      ]
     },
     "metadata": {},
     "output_type": "display_data"
    }
   ],
   "source": [
    "import matplotlib.pyplot as plt\n",
    "\n",
    "plt.figure(figsize=(12, 6))\n",
    "plt.subplot(2, 1, 1)\n",
    "plt.plot(df.index, df['Close'])\n",
    "plt.title('Price Over Time')\n",
    "\n",
    "plt.subplot(2, 1, 2)\n",
    "plt.plot(df.index, df['Volume'])\n",
    "plt.title('Volume Over Time')\n",
    "plt.tight_layout()\n",
    "plt.show()\n",
    "\n",
    "# Boxplots for visual outlier detection\n",
    "plt.figure(figsize=(12, 4))\n",
    "df[['Close', 'Volume']].boxplot()\n",
    "plt.title('Boxplot of Close Price and Volume')\n",
    "plt.show()"
   ]
  },
  {
   "cell_type": "code",
   "execution_count": 12,
   "id": "89b8a367",
   "metadata": {},
   "outputs": [],
   "source": [
    "# save cleaned data\n",
    "df.to_csv('../data/AAPL_cleaned.csv', index=False)"
   ]
  }
 ],
 "metadata": {
  "kernelspec": {
   "display_name": "venv",
   "language": "python",
   "name": "python3"
  },
  "language_info": {
   "codemirror_mode": {
    "name": "ipython",
    "version": 3
   },
   "file_extension": ".py",
   "mimetype": "text/x-python",
   "name": "python",
   "nbconvert_exporter": "python",
   "pygments_lexer": "ipython3",
   "version": "3.13.3"
  }
 },
 "nbformat": 4,
 "nbformat_minor": 5
}
